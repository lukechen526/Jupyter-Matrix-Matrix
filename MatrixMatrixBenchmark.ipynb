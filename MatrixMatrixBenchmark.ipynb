{
 "cells": [
  {
   "cell_type": "markdown",
   "metadata": {},
   "source": [
    "# Measuring the floating point performance of your machine\n",
    "\n",
    "Matrix-Matrix multiplication is often used to benchmark machines because the mathematics is such that it is one of the few operations where one can obtain close to theoretical peak performance in pratice.\n",
    "\n",
    "The number of floating point operations(Flops) in a Matrix-Matrix multiplication of two $N$ x $N$ matrices is given by $2N^3-N^2$ (See http://www2.hawaii.edu/~norbert/CompPhys/compphysicsch10.html for details of how this was determined).\n",
    "\n",
    "For this benchmark, we construct two random $N$ x $N$ matrices and time how long it takes to multiply them together, $t$. We then compute the number of Gigaflops/s exhibited by that operation via $\\frac{2N^3-N^2}{t*10^9}$. We do this several times for any given $N$ and record the average and the best (peak) results obtained.  $N$ is then varied from 250 to 10,000 in steps of 250 to see how performance varies with matrix size.  Usually, the highest performance is obtained by multiplying large matrices together.\n",
    "\n",
    "For highest performance, you should use a version of numpy that has been linked against a high performance BLAS library such as [OpenBLAS](http://www.openblas.net/) or the Intel MKL(https://software.intel.com/en-us/intel-mkl). The [Anaconda Python](https://www.continuum.io/downloads) distribution includes the Intel MKL by default on Windows and Linux (Mac includes its own high performance BLAS library)."
   ]
  },
  {
   "cell_type": "code",
   "execution_count": null,
   "metadata": {},
   "outputs": [],
   "source": [
    "import timeit\n",
    "import matplotlib.pyplot as plt\n",
    "import numpy\n",
    "\n",
    "def bench_mmm(startn,maxn,step,loops):\n",
    "    count=0\n",
    "    \n",
    "    #Preallocate results lists\n",
    "    avg_gflops = int((1+(maxn-startn)/step))*[0] \n",
    "    peak_gflops = int((1+(maxn-startn)/step))*[0]\n",
    "    raw_times = [int(loops)*[0] for i in range(int(1+(maxn-startn)/step))]\n",
    "    all_gflops = [int(loops)*[0] for i in  range(int(1+(maxn-startn)/step))]\n",
    "    mat_size=int((1+(maxn-startn)/step))*[0] \n",
    "\n",
    "    for n in range(startn,maxn+step,step):\n",
    "        setup_string = \"from pylab import rand,dot;n=%d;a=rand(n,n);b=rand(n,n)\" % n\n",
    "        time_list = timeit.repeat(\"a.dot(b)\", setup=setup_string, repeat=loops,number=1)\n",
    "        raw_times[count] = time_list\n",
    "        total_time = sum(time_list)\n",
    "        avg_time = total_time / loops\n",
    "        peak_time = min(time_list)\n",
    "        num_ops = 2*n**3-n**2\n",
    "        avg_gflops[count] = (num_ops/avg_time)/10**9\n",
    "        peak_gflops[count] = (num_ops/peak_time)/10**9\n",
    "        all_gflops[count] = [(num_ops/time)/10**9 for time in raw_times[count]]        \n",
    "        mat_size[count] = n\n",
    "        count=count+1\n",
    "    \n",
    "    plt.plot(mat_size,avg_gflops,'*-',label=\"Average over %d runs\" %loops)\n",
    "    plt.plot(mat_size,peak_gflops,'*-',label=\"Peak\")\n",
    "    plt.legend(bbox_to_anchor=(1.05, 1), loc=2, borderaxespad=0.)\n",
    "    plt.xlabel('Matrix Size');\n",
    "    plt.ylabel('GFlop/s');\n",
    "    plt.show()\n",
    "    \n",
    "    return(max(peak_gflops),raw_times,all_gflops)\n",
    "\n",
    "peak_flops = bench_mmm(250,15000,250,5)"
   ]
  },
  {
   "cell_type": "code",
   "execution_count": null,
   "metadata": {},
   "outputs": [],
   "source": [
    "#Maximum flops found\n",
    "result1=peak_flops[0]"
   ]
  },
  {
   "cell_type": "code",
   "execution_count": null,
   "metadata": {},
   "outputs": [],
   "source": [
    "#Run it again\n",
    "peak_flops = bench_mmm(250,15000,250,5)"
   ]
  },
  {
   "cell_type": "code",
   "execution_count": null,
   "metadata": {},
   "outputs": [],
   "source": [
    "result2=peak_flops[0]"
   ]
  },
  {
   "cell_type": "code",
   "execution_count": null,
   "metadata": {},
   "outputs": [],
   "source": [
    "#Check to see if we are using MKL\n",
    "import numpy\n",
    "numpy.show_config()"
   ]
  },
  {
   "cell_type": "code",
   "execution_count": null,
   "metadata": {},
   "outputs": [],
   "source": [
    "#CPU and host info. Most of this cell only works on Linux\n",
    "import multiprocessing\n",
    "print('CPUS available = {0}'.format(multiprocessing.cpu_count()))\n",
    "!hostname\n",
    "!cat /proc/cpuinfo | grep 'model name' | uniq\n",
    "!echo \"OMP_NUM_THREADS=$OMP_NUM_THREADS\"\n",
    "print('Measured peak speed = {0} Gigaflops'.format(max(result1,result2)))"
   ]
  }
 ],
 "metadata": {
  "kernelspec": {
   "display_name": "Python 3",
   "language": "python",
   "name": "python3"
  },
  "language_info": {
   "codemirror_mode": {
    "name": "ipython",
    "version": 3
   },
   "file_extension": ".py",
   "mimetype": "text/x-python",
   "name": "python",
   "nbconvert_exporter": "python",
   "pygments_lexer": "ipython3",
   "version": "3.6.4"
  }
 },
 "nbformat": 4,
 "nbformat_minor": 1
}
